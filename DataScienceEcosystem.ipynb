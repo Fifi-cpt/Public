{
 "cells": [
  {
   "cell_type": "markdown",
   "id": "7ea9256d",
   "metadata": {},
   "source": [
    "# Data Science Tools and Ecosystem"
   ]
  },
  {
   "cell_type": "markdown",
   "id": "9a5f67c4",
   "metadata": {},
   "source": [
    "In this notebook, Data Science Tools and Ecosystem are summarized."
   ]
  },
  {
   "cell_type": "markdown",
   "id": "80197ff0",
   "metadata": {},
   "source": [
    "# Objectives\n",
    "- Python\n",
    "- Data Science\n",
    "- Jupyter"
   ]
  },
  {
   "cell_type": "markdown",
   "id": "e5d9371e",
   "metadata": {},
   "source": [
    "Some of the popular languages that Data Scientists use are:  \n",
    "    Python  \n",
    "    R  \n",
    "    SQL  "
   ]
  },
  {
   "cell_type": "markdown",
   "id": "56f12bb9",
   "metadata": {},
   "source": [
    "Some of the commonly used libraries used by Data Scientists include:  \n",
    "$\\;\\;\\;\\;\\;\\;$ Pandas  \n",
    "$\\;\\;\\;\\;\\;\\;$    Numpy  \n",
    "$\\;\\;\\;\\;\\;\\;$    MatPlotLib  "
   ]
  },
  {
   "cell_type": "markdown",
   "id": "52ddd13e",
   "metadata": {},
   "source": [
    "| Data Science Tools|\n",
    "|------|\n",
    "|   SAS  |\n",
    "|   Apache  |\n",
    "|   Matlab  |"
   ]
  },
  {
   "cell_type": "markdown",
   "id": "16449557",
   "metadata": {},
   "source": [
    "### Below are a few examples of evaluating arithmetic expressions in Python"
   ]
  },
  {
   "cell_type": "code",
   "execution_count": 3,
   "id": "87162750",
   "metadata": {},
   "outputs": [
    {
     "data": {
      "text/plain": [
       "17"
      ]
     },
     "execution_count": 3,
     "metadata": {},
     "output_type": "execute_result"
    }
   ],
   "source": [
    "(3*4)+5"
   ]
  },
  {
   "cell_type": "code",
   "execution_count": 8,
   "id": "f9305227",
   "metadata": {},
   "outputs": [
    {
     "name": "stdout",
     "output_type": "stream",
     "text": [
      "3.3333333333333335\n"
     ]
    }
   ],
   "source": [
    "minutes =200\n",
    "hours=200/60\n",
    "# This will convert 200 minutes to hours by diving by 60\n",
    "print(hours)"
   ]
  },
  {
   "cell_type": "markdown",
   "id": "34fa4844",
   "metadata": {},
   "source": [
    "## Author\n",
    "Victor"
   ]
  },
  {
   "cell_type": "code",
   "execution_count": null,
   "id": "076ed364",
   "metadata": {},
   "outputs": [],
   "source": []
  }
 ],
 "metadata": {
  "kernelspec": {
   "display_name": "Python 3 (ipykernel)",
   "language": "python",
   "name": "python3"
  },
  "language_info": {
   "codemirror_mode": {
    "name": "ipython",
    "version": 3
   },
   "file_extension": ".py",
   "mimetype": "text/x-python",
   "name": "python",
   "nbconvert_exporter": "python",
   "pygments_lexer": "ipython3",
   "version": "3.9.7"
  }
 },
 "nbformat": 4,
 "nbformat_minor": 5
}
